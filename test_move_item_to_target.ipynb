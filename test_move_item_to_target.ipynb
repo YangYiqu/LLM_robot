{
 "cells": [
  {
   "cell_type": "markdown",
   "metadata": {},
   "source": [
    "#### the simplest example for testing move_item_to_target_location"
   ]
  },
  {
   "cell_type": "code",
   "execution_count": 1,
   "metadata": {},
   "outputs": [
    {
     "name": "stdout",
     "output_type": "stream",
     "text": [
      "Reading depth image from gazebo error!\n",
      "x: 476,y: 226,z: 255,z_max:255,obj_width: {'cola': 340}\n",
      "b'rec x:476, y:226, z:275'\n",
      "{'enable': 0, 'width': 340, 'depth': 275}\n",
      "b'enable:0, gripper width: 340, gripper depth: 275'\n",
      "Reading depth image from gazebo error!\n",
      "x: 362,y: 222,z: 53,z_max:255,obj_width: {'plate': 144}\n",
      "b'enable:1, gripper width: 0, gripper depth: 0'\n"
     ]
    }
   ],
   "source": [
    "from skills_python import move_item_to_target_location\n",
    "\n",
    "move_item_to_target_location(\"cola\",\"plate\")"
   ]
  },
  {
   "cell_type": "code",
   "execution_count": 1,
   "metadata": {},
   "outputs": [
    {
     "name": "stdout",
     "output_type": "stream",
     "text": [
      "x: 472,y: 216,z: 725,z_max:2507,obj_width: {'cola can': 43}\n"
     ]
    },
    {
     "data": {
      "text/plain": [
       "\"{'cola can': (472, 216, 745)}\""
      ]
     },
     "execution_count": 1,
     "metadata": {},
     "output_type": "execute_result"
    }
   ],
   "source": [
    "from skills_python import search_object\n",
    "# search_object(\"cola can\")"
   ]
  },
  {
   "cell_type": "code",
   "execution_count": 2,
   "metadata": {},
   "outputs": [],
   "source": [
    "# from basic_func.delete_skill import delete_skill\n",
    "# delete_skill(\"move_item_to_target\")"
   ]
  },
  {
   "cell_type": "markdown",
   "metadata": {},
   "source": [
    "已下"
   ]
  },
  {
   "cell_type": "code",
   "execution_count": 2,
   "metadata": {},
   "outputs": [],
   "source": [
    "from main import search_relevent_api\n",
    "from basic_func.query_rewrite import query_rewrite\n",
    "from dashscope import Generation\n",
    "from dashscope import MultiModalConversation\n",
    "from dashscope.api_entities.dashscope_response import Role"
   ]
  },
  {
   "cell_type": "code",
   "execution_count": 3,
   "metadata": {},
   "outputs": [
    {
     "name": "stdout",
     "output_type": "stream",
     "text": [
      "['move_two_items', 'grab_object']\n",
      "##Integrated tool## move_two_items: Call this tool API to control the robot. What is the move_two_items API useful for? This tool moves two items from their current locations to specified target locations. It calls the 'move_item_to_target_location' tool twice, once for each item. Parameters: [{\"name\": \"item1\", \"type\": \"string\", \"description\": \"The name of the first item to be moved. \", \"required\": true}, {\"name\": \"target1\", \"type\": \"string\", \"description\": \"The name of the target object for the first item. \", \"required\": true}, {\"name\": \"item2\", \"type\": \"string\", \"description\": \"The name of the second item to be moved. \", \"required\": true}, {\"name\": \"target2\", \"type\": \"string\", \"description\": \"The name of the target object for the second item. \", \"required\": true}] Format the arguments as a JSON object.\n",
      "\n",
      "##Basic tool## grab_object: Call this tool API to control the robot. What is the grab_object API useful for? Robot will grab the object at the robot's current location in order to take or move the object Parameters: [{\"name\": \"object_name\", \"type\": \"string\", \"description\": \"the name of object the robot should grab\", \"required\": true}, {\"name\": \"tableware_name\", \"type\": \"string\", \"description\": \"the suitable tableware to grab corresponding object. The default is 'hand'. \", \"required\": true}] Format the arguments as a JSON object.\n"
     ]
    }
   ],
   "source": [
    "task=\"move apple to plate, and them move plate to the table, and then grab the cola can.\"\n",
    "tool_names, tool_descs=search_relevent_api(query_rewrite(task))\n",
    "print(tool_names)\n",
    "print(tool_descs)\n",
    "TREE_DECOMPOSITION_PROMPT=\"\"\"\n",
    "Instruction:\n",
    "\n",
    "1.If you can find suitable ##integrated tools## to accomplish certain subtask of the task, use it preferentially with high priority!\n",
    "2.If you only use ##basic tool##, you should follow the following criteria:\n",
    "    - If you want to move a object through move_to_coordinates or move_to_object, you should first know its location by search_object.\n",
    "    - If you want to grab a object by grab_object and you are not in the same location of this object, you should first move to the object location by move_to_object or move_to_coordinates.\n",
    "    \n",
    "Now, you need to accomplish this task: \n",
    "{task},\n",
    "and now I have the following tools: \n",
    "{tool_names}.\n",
    "There are brief description of each tool:\n",
    "{tool_descs}.\n",
    "Do you think I have enough tools to finish this task. If not, can you build a decomposition of the task?\n",
    "\n",
    "If you think a subtask can be accomplished by using the just by one tool above, please write down the subtask as a single list and  return the remaining subtask that need more tools information to accomplished recurisively as a subnode.\n",
    "\n",
    "For example:\n",
    "\n",
    "task: \"move apple to plate, and them move plate to the table, and then grab the cola can.\"\n",
    "tool_names: ['move_two_items', 'grab_object']\n",
    "brief description of each tool: \n",
    "##Integrated tool## move_two_items: Call this tool API to control the robot. What is the move_two_items API useful for? This tool moves two items from their current locations to specified target locations. It calls the 'move_item_to_target_location' tool twice, once for each item. Parameters: [{{\"name\": \"item1\", \"type\": \"string\", \"description\": \"The name of the first item to be moved. \", \"required\": true}}, {{\"name\": \"target1\", \"type\": \"string\", \"description\": \"The name of the target object for the first item. \", \"required\": true}}, {{\"name\": \"item2\", \"type\": \"string\", \"description\": \"The name of the second item to be moved. \", \"required\": true}}, {{\"name\": \"target2\", \"type\": \"string\", \"description\": \"The name of the target object for the second item. \", \"required\": true}}] Format the arguments as a JSON object.\n",
    "\n",
    "##Basic tool## grab_object: Call this tool API to control the robot. What is the grab_object API useful for? Robot will grab the object at the robot's current location in order to take or move the object Parameters: [{{\"name\": \"object_name\", \"type\": \"string\", \"description\": \"the name of object the robot should grab\", \"required\": true}}, {{\"name\": \"tableware_name\", \"type\": \"string\", \"description\": \"the suitable tableware to grab corresponding object. The default is 'hand'. \", \"required\": true}}] Format the arguments as a JSON object.\n",
    "\n",
    "Output:\n",
    "No, I don't think you have enough tools to finish this task. Here is a decomposition of the task:\n",
    "Subtasks that can be implemented:[\"move apple to plate, and them move plate to the table\"]\n",
    "Subtasks that can not be implemented:[\"grab the cola can\"]\n",
    "Reason: to grab the cola can, we should first know the location of the cola can, and then move to the cola can location to grab it.\n",
    "\n",
    "\"\"\"\n",
    "\n",
    "tree_decomposition_promopt=TREE_DECOMPOSITION_PROMPT.format(task=task,tool_names=tool_names,tool_descs=tool_descs)\n",
    "\n"
   ]
  },
  {
   "cell_type": "code",
   "execution_count": 4,
   "metadata": {},
   "outputs": [
    {
     "name": "stdout",
     "output_type": "stream",
     "text": [
      "Yes, I think you have enough tools to finish this task. Here is a decomposition of the task:\n",
      "Subtasks that can be implemented: [\"move apple to plate\", \"move plate to the table\", \"grab the cola can\"]\n",
      "To accomplish the subtask \"move apple to plate\", you can use the 'move_two_items' tool with the following arguments:\n",
      "```json\n",
      "{\n",
      "  \"item1\": \"apple\",\n",
      "  \"target1\": \"plate\",\n",
      "  \"item2\": \"\",\n",
      "  \"target2\": \"\"\n",
      "}\n",
      "```\n",
      "\n",
      "To accomplish the subtask \"move plate to the table\", you can use the 'move_two_items' tool with the following arguments:\n",
      "```json\n",
      "{\n",
      "  \"item1\": \"plate\",\n",
      "  \"target1\": \"table\",\n",
      "  \"item2\": \"\",\n",
      "  \"target2\": \"\"\n",
      "}\n",
      "```\n",
      "\n",
      "To accomplish the subtask \"grab the cola can\", you can use the 'grab_object' tool with the following arguments:\n",
      "```json\n",
      "{\n",
      "  \"object_name\": \"cola can\",\n",
      "  \"tableware_name\": \"hand\"\n",
      "}\n",
      "```\n"
     ]
    }
   ],
   "source": [
    "stop = [\"Observation:\", \"Observation:\\n\"]\n",
    "messages = [\n",
    "        {\n",
    "            \"role\": Role.SYSTEM,\n",
    "            \"content\": \"You are an embodied AI assistant that controls a robot and interacts with the user.\",\n",
    "        },\n",
    "        {\"role\": Role.USER, \"content\": tree_decomposition_promopt},\n",
    "    ]\n",
    "\n",
    "response = Generation.call(\n",
    "        # Generation.Models.qwen_max,\n",
    "        model=\"qwen-max-1201\",\n",
    "        messages=messages,\n",
    "        result_format=\"message\",  # set the result to be \"message\" format.\n",
    "        stop_tokens=stop,\n",
    "        temperature=0,\n",
    "    )\n",
    "\n",
    "resp = response.output.choices[0][\"message\"][\"content\"]\n",
    "print(resp)"
   ]
  },
  {
   "cell_type": "code",
   "execution_count": null,
   "metadata": {},
   "outputs": [],
   "source": []
  }
 ],
 "metadata": {
  "kernelspec": {
   "display_name": "Python 3",
   "language": "python",
   "name": "python3"
  },
  "language_info": {
   "codemirror_mode": {
    "name": "ipython",
    "version": 3
   },
   "file_extension": ".py",
   "mimetype": "text/x-python",
   "name": "python",
   "nbconvert_exporter": "python",
   "pygments_lexer": "ipython3",
   "version": "3.9.18"
  }
 },
 "nbformat": 4,
 "nbformat_minor": 2
}
